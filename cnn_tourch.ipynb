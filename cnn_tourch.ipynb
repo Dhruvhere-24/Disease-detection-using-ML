{
 "cells": [
  {
   "cell_type": "markdown",
   "id": "a873d0c6",
   "metadata": {},
   "source": [
    "# 📦 Imports"
   ]
  },
  {
   "cell_type": "code",
   "execution_count": 1,
   "id": "cf7f07c4",
   "metadata": {},
   "outputs": [],
   "source": [
    "import os\n",
    "import cv2\n",
    "import numpy as np\n",
    "from sklearn.preprocessing import LabelEncoder\n",
    "import torch\n",
    "from torch.utils.data import Dataset, DataLoader"
   ]
  },
  {
   "cell_type": "markdown",
   "id": "c2ac7f90",
   "metadata": {},
   "source": [
    "# 🧾 Custom Dataset Class"
   ]
  },
  {
   "cell_type": "code",
   "execution_count": 2,
   "id": "25757dad",
   "metadata": {},
   "outputs": [],
   "source": [
    "class ImageDataset(Dataset):\n",
    "    def __init__(self, root_folder):\n",
    "        self.images = []\n",
    "        self.labels = []\n",
    "        self.label_encoder = LabelEncoder()\n",
    "        self._load_data(root_folder)\n",
    "        self.labels = self.label_encoder.fit_transform(self.labels)\n",
    "\n",
    "    def _load_data(self, root_folder):\n",
    "        print(\"Loading images from:\", root_folder)\n",
    "        for class_name in os.listdir(root_folder):\n",
    "            class_path = os.path.join(root_folder, class_name)\n",
    "            if not os.path.isdir(class_path):\n",
    "                continue\n",
    "            for image_name in os.listdir(class_path):\n",
    "                image_path = os.path.join(class_path, image_name)\n",
    "                img = cv2.imread(image_path)\n",
    "                if img is None:\n",
    "                    continue\n",
    "                try:\n",
    "                    img = cv2.resize(img, (128, 128))  # Smaller size for low RAM\n",
    "                    img = cv2.cvtColor(img, cv2.COLOR_BGR2RGB)\n",
    "                    img = img / 255.0\n",
    "                    self.images.append(img.astype(np.float32))\n",
    "                    self.labels.append(class_name)\n",
    "                except:\n",
    "                    continue\n",
    "\n",
    "    def __len__(self):\n",
    "        return len(self.images)\n",
    "\n",
    "    def __getitem__(self, idx):\n",
    "        image = torch.tensor(self.images[idx]).permute(2, 0, 1)  # HWC to CHW\n",
    "        label = torch.tensor(self.labels[idx], dtype=torch.long)\n",
    "        return image, label"
   ]
  },
  {
   "cell_type": "markdown",
   "id": "c828d2f4",
   "metadata": {},
   "source": [
    "# 📁 Load dataset"
   ]
  },
  {
   "cell_type": "code",
   "execution_count": 3,
   "id": "a515f1a8",
   "metadata": {},
   "outputs": [
    {
     "name": "stdout",
     "output_type": "stream",
     "text": [
      "Loading images from: C:\\Users\\DHRUV\\Downloads\\Telegram Desktop\\time for cnn\\split_data\n"
     ]
    }
   ],
   "source": [
    "data_path = r\"C:\\Users\\DHRUV\\Downloads\\Telegram Desktop\\time for cnn\\split_data\"\n",
    "dataset = ImageDataset(data_path)"
   ]
  },
  {
   "cell_type": "markdown",
   "id": "89563f87",
   "metadata": {},
   "source": [
    "# 🧠 CNN Model"
   ]
  },
  {
   "cell_type": "code",
   "execution_count": 4,
   "id": "3e51d53f",
   "metadata": {},
   "outputs": [],
   "source": [
    "import torch.nn as nn\n",
    "\n",
    "class MyCNN(nn.Module):\n",
    "    def __init__(self):\n",
    "        super(MyCNN, self).__init__()\n",
    "        self.model = nn.Sequential(\n",
    "            nn.Conv2d(3, 16, 3, padding=1), nn.ReLU(), nn.MaxPool2d(2),\n",
    "            nn.Conv2d(16, 32, 3, padding=1), nn.ReLU(), nn.MaxPool2d(2),\n",
    "            nn.Conv2d(32, 64, 3, padding=1), nn.ReLU(), nn.MaxPool2d(2),\n",
    "            nn.Flatten(),\n",
    "            nn.Linear(64 * 16 * 16, 128), nn.ReLU(),\n",
    "            nn.Linear(128, 2)  # Output: 0 or 1\n",
    "        )\n",
    "\n",
    "    def forward(self, x):\n",
    "        return self.model(x)\n",
    "\n",
    "# ⚙️ Training Setup\n",
    "device = torch.device(\"cuda\" if torch.cuda.is_available() else \"cpu\")\n",
    "model = MyCNN().to(device)\n",
    "\n",
    "criterion = nn.CrossEntropyLoss()\n",
    "optimizer = torch.optim.Adam(model.parameters(), lr=0.001)\n",
    "batch_size = 16\n",
    "train_loader = DataLoader(dataset, batch_size=batch_size, shuffle=True, pin_memory=True)\n"
   ]
  },
  {
   "cell_type": "markdown",
   "id": "0212a363",
   "metadata": {},
   "source": [
    "# 🏋️ Train the Model"
   ]
  },
  {
   "cell_type": "code",
   "execution_count": 5,
   "id": "242db23a",
   "metadata": {},
   "outputs": [
    {
     "name": "stderr",
     "output_type": "stream",
     "text": [
      "c:\\Users\\DHRUV\\AppData\\Local\\Programs\\Python\\Python313\\Lib\\site-packages\\torch\\utils\\data\\dataloader.py:665: UserWarning: 'pin_memory' argument is set as true but no accelerator is found, then device pinned memory won't be used.\n",
      "  warnings.warn(warn_msg)\n"
     ]
    },
    {
     "name": "stdout",
     "output_type": "stream",
     "text": [
      "Epoch 1/10, Loss: 0.4294\n",
      "Epoch 2/10, Loss: 0.2418\n",
      "Epoch 3/10, Loss: 0.1579\n",
      "Epoch 4/10, Loss: 0.1075\n",
      "Epoch 5/10, Loss: 0.0850\n",
      "Epoch 6/10, Loss: 0.0617\n",
      "Epoch 7/10, Loss: 0.0589\n",
      "Epoch 8/10, Loss: 0.0467\n",
      "Epoch 9/10, Loss: 0.0248\n",
      "Epoch 10/10, Loss: 0.0301\n"
     ]
    }
   ],
   "source": [
    "epochs = 10\n",
    "for epoch in range(epochs):\n",
    "    model.train()\n",
    "    running_loss = 0.0\n",
    "    for inputs, labels in train_loader:\n",
    "        inputs, labels = inputs.to(device), labels.to(device)\n",
    "\n",
    "        optimizer.zero_grad()\n",
    "        outputs = model(inputs)\n",
    "        loss = criterion(outputs, labels)\n",
    "        loss.backward()\n",
    "        torch.nn.utils.clip_grad_value_(model.parameters(), 1.0)\n",
    "        optimizer.step()\n",
    "\n",
    "        running_loss += loss.item()\n",
    "\n",
    "    avg_loss = running_loss / len(train_loader)\n",
    "    print(f\"Epoch {epoch+1}/{epochs}, Loss: {avg_loss:.4f}\")"
   ]
  },
  {
   "cell_type": "markdown",
   "id": "3d2afb6b",
   "metadata": {},
   "source": [
    "# 💾 Save model"
   ]
  },
  {
   "cell_type": "code",
   "execution_count": 6,
   "id": "0ee2fafe",
   "metadata": {},
   "outputs": [
    {
     "name": "stdout",
     "output_type": "stream",
     "text": [
      "✅ Model saved at: cnn_disease_model.pth\n"
     ]
    }
   ],
   "source": [
    "model_path = \"cnn_disease_model.pth\"\n",
    "torch.save(model.state_dict(), model_path)\n",
    "print(f\"✅ Model saved at: {model_path}\")"
   ]
  },
  {
   "cell_type": "markdown",
   "id": "3c42e06f",
   "metadata": {},
   "source": [
    "# 🔍 Example: Predicting one image"
   ]
  },
  {
   "cell_type": "code",
   "execution_count": 8,
   "id": "148e3cc3",
   "metadata": {},
   "outputs": [
    {
     "name": "stdout",
     "output_type": "stream",
     "text": [
      "Predicted: 1 (Diseased)\n"
     ]
    }
   ],
   "source": [
    "model.eval()\n",
    "with torch.no_grad():\n",
    "    sample, _ = dataset[-1]\n",
    "    sample = sample.unsqueeze(0).to(device)\n",
    "    output = model(sample)\n",
    "    prediction = torch.argmax(output, dim=1).item()\n",
    "    print(f\"Predicted: {prediction} ({'Diseased' if prediction == 1 else 'Healthy'})\")"
   ]
  }
 ],
 "metadata": {
  "kernelspec": {
   "display_name": "Python 3",
   "language": "python",
   "name": "python3"
  },
  "language_info": {
   "codemirror_mode": {
    "name": "ipython",
    "version": 3
   },
   "file_extension": ".py",
   "mimetype": "text/x-python",
   "name": "python",
   "nbconvert_exporter": "python",
   "pygments_lexer": "ipython3",
   "version": "3.13.2"
  }
 },
 "nbformat": 4,
 "nbformat_minor": 5
}
